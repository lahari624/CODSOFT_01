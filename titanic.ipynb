{
 "cells": [
  {
   "cell_type": "code",
   "execution_count": 1,
   "id": "66d817ba-592f-45ef-a1cd-5b9dbb74891a",
   "metadata": {},
   "outputs": [],
   "source": [
    "# Import necessary libraries\n",
    "import pandas as pd\n",
    "import numpy as np\n",
    "import matplotlib.pyplot as plt\n",
    "import seaborn as sns\n",
    "from sklearn.model_selection import train_test_split\n",
    "from sklearn.ensemble import RandomForestClassifier\n",
    "from sklearn.metrics import accuracy_score, confusion_matrix, classification_report\n",
    "from sklearn.preprocessing import StandardScaler\n",
    "from sklearn.preprocessing import LabelEncoder"
   ]
  },
  {
   "cell_type": "code",
   "execution_count": 2,
   "id": "214c5232-9d5f-403a-85c8-a7b29d2b6344",
   "metadata": {},
   "outputs": [
    {
     "data": {
      "text/html": [
       "<div>\n",
       "<style scoped>\n",
       "    .dataframe tbody tr th:only-of-type {\n",
       "        vertical-align: middle;\n",
       "    }\n",
       "\n",
       "    .dataframe tbody tr th {\n",
       "        vertical-align: top;\n",
       "    }\n",
       "\n",
       "    .dataframe thead th {\n",
       "        text-align: right;\n",
       "    }\n",
       "</style>\n",
       "<table border=\"1\" class=\"dataframe\">\n",
       "  <thead>\n",
       "    <tr style=\"text-align: right;\">\n",
       "      <th></th>\n",
       "      <th>PassengerId</th>\n",
       "      <th>Survived</th>\n",
       "      <th>Pclass</th>\n",
       "      <th>Name</th>\n",
       "      <th>Sex</th>\n",
       "      <th>Age</th>\n",
       "      <th>SibSp</th>\n",
       "      <th>Parch</th>\n",
       "      <th>Ticket</th>\n",
       "      <th>Fare</th>\n",
       "      <th>Cabin</th>\n",
       "      <th>Embarked</th>\n",
       "    </tr>\n",
       "  </thead>\n",
       "  <tbody>\n",
       "    <tr>\n",
       "      <th>0</th>\n",
       "      <td>1</td>\n",
       "      <td>0</td>\n",
       "      <td>3</td>\n",
       "      <td>Braund, Mr. Owen Harris</td>\n",
       "      <td>male</td>\n",
       "      <td>22.0</td>\n",
       "      <td>1</td>\n",
       "      <td>0</td>\n",
       "      <td>A/5 21171</td>\n",
       "      <td>7.2500</td>\n",
       "      <td>NaN</td>\n",
       "      <td>S</td>\n",
       "    </tr>\n",
       "    <tr>\n",
       "      <th>1</th>\n",
       "      <td>2</td>\n",
       "      <td>1</td>\n",
       "      <td>1</td>\n",
       "      <td>Cumings, Mrs. John Bradley (Florence Briggs Th...</td>\n",
       "      <td>female</td>\n",
       "      <td>38.0</td>\n",
       "      <td>1</td>\n",
       "      <td>0</td>\n",
       "      <td>PC 17599</td>\n",
       "      <td>71.2833</td>\n",
       "      <td>C85</td>\n",
       "      <td>C</td>\n",
       "    </tr>\n",
       "    <tr>\n",
       "      <th>2</th>\n",
       "      <td>3</td>\n",
       "      <td>1</td>\n",
       "      <td>3</td>\n",
       "      <td>Heikkinen, Miss. Laina</td>\n",
       "      <td>female</td>\n",
       "      <td>26.0</td>\n",
       "      <td>0</td>\n",
       "      <td>0</td>\n",
       "      <td>STON/O2. 3101282</td>\n",
       "      <td>7.9250</td>\n",
       "      <td>NaN</td>\n",
       "      <td>S</td>\n",
       "    </tr>\n",
       "    <tr>\n",
       "      <th>3</th>\n",
       "      <td>4</td>\n",
       "      <td>1</td>\n",
       "      <td>1</td>\n",
       "      <td>Futrelle, Mrs. Jacques Heath (Lily May Peel)</td>\n",
       "      <td>female</td>\n",
       "      <td>35.0</td>\n",
       "      <td>1</td>\n",
       "      <td>0</td>\n",
       "      <td>113803</td>\n",
       "      <td>53.1000</td>\n",
       "      <td>C123</td>\n",
       "      <td>S</td>\n",
       "    </tr>\n",
       "    <tr>\n",
       "      <th>4</th>\n",
       "      <td>5</td>\n",
       "      <td>0</td>\n",
       "      <td>3</td>\n",
       "      <td>Allen, Mr. William Henry</td>\n",
       "      <td>male</td>\n",
       "      <td>35.0</td>\n",
       "      <td>0</td>\n",
       "      <td>0</td>\n",
       "      <td>373450</td>\n",
       "      <td>8.0500</td>\n",
       "      <td>NaN</td>\n",
       "      <td>S</td>\n",
       "    </tr>\n",
       "  </tbody>\n",
       "</table>\n",
       "</div>"
      ],
      "text/plain": [
       "   PassengerId  Survived  Pclass  \\\n",
       "0            1         0       3   \n",
       "1            2         1       1   \n",
       "2            3         1       3   \n",
       "3            4         1       1   \n",
       "4            5         0       3   \n",
       "\n",
       "                                                Name     Sex   Age  SibSp  \\\n",
       "0                            Braund, Mr. Owen Harris    male  22.0      1   \n",
       "1  Cumings, Mrs. John Bradley (Florence Briggs Th...  female  38.0      1   \n",
       "2                             Heikkinen, Miss. Laina  female  26.0      0   \n",
       "3       Futrelle, Mrs. Jacques Heath (Lily May Peel)  female  35.0      1   \n",
       "4                           Allen, Mr. William Henry    male  35.0      0   \n",
       "\n",
       "   Parch            Ticket     Fare Cabin Embarked  \n",
       "0      0         A/5 21171   7.2500   NaN        S  \n",
       "1      0          PC 17599  71.2833   C85        C  \n",
       "2      0  STON/O2. 3101282   7.9250   NaN        S  \n",
       "3      0            113803  53.1000  C123        S  \n",
       "4      0            373450   8.0500   NaN        S  "
      ]
     },
     "execution_count": 2,
     "metadata": {},
     "output_type": "execute_result"
    }
   ],
   "source": [
    "df = pd.read_csv(\"C:/Users/hp/Downloads/Titanic-Dataset.csv\")\n",
    "df.head()"
   ]
  },
  {
   "cell_type": "code",
   "execution_count": 3,
   "id": "90c7363a-d5eb-4785-9bbe-49f85c80b45c",
   "metadata": {},
   "outputs": [
    {
     "name": "stdout",
     "output_type": "stream",
     "text": [
      "<class 'pandas.core.frame.DataFrame'>\n",
      "RangeIndex: 891 entries, 0 to 890\n",
      "Data columns (total 12 columns):\n",
      " #   Column       Non-Null Count  Dtype  \n",
      "---  ------       --------------  -----  \n",
      " 0   PassengerId  891 non-null    int64  \n",
      " 1   Survived     891 non-null    int64  \n",
      " 2   Pclass       891 non-null    int64  \n",
      " 3   Name         891 non-null    object \n",
      " 4   Sex          891 non-null    object \n",
      " 5   Age          714 non-null    float64\n",
      " 6   SibSp        891 non-null    int64  \n",
      " 7   Parch        891 non-null    int64  \n",
      " 8   Ticket       891 non-null    object \n",
      " 9   Fare         891 non-null    float64\n",
      " 10  Cabin        204 non-null    object \n",
      " 11  Embarked     889 non-null    object \n",
      "dtypes: float64(2), int64(5), object(5)\n",
      "memory usage: 83.7+ KB\n"
     ]
    },
    {
     "data": {
      "image/png": "[encoded data removed]",
      "text/plain": [
       "<Figure size 640x480 with 1 Axes>"
      ]
     },
     "metadata": {},
     "output_type": "display_data"
    }
   ],
   "source": [
    "# Check data types and missing values\n",
    "df.info()\n",
    "\n",
    "# Statistical summary\n",
    "df.describe(include='all')\n",
    "\n",
    "# Count missing values\n",
    "df.isnull().sum()\n",
    "# Visualize missing values\n",
    "sns.heatmap(df.isnull(), cbar=False, cmap='viridis')\n",
    "plt.title('Missing Values Heatmap')\n",
    "plt.show()"
   ]
  },
  {
   "cell_type": "code",
   "execution_count": 4,
   "id": "1eb9de72-a27f-41fc-85b2-2609bc94be87",
   "metadata": {},
   "outputs": [
    {
     "name": "stdout",
     "output_type": "stream",
     "text": [
      "PassengerId      0\n",
      "Survived         0\n",
      "Pclass           0\n",
      "Name             0\n",
      "Sex              0\n",
      "Age            177\n",
      "SibSp            0\n",
      "Parch            0\n",
      "Ticket           0\n",
      "Fare             0\n",
      "Cabin          687\n",
      "Embarked         2\n",
      "dtype: int64\n"
     ]
    }
   ],
   "source": [
    "# Check for missing values\n",
    "print(df.isnull().sum())\n",
    "\n",
    "# Fill missing Age with median\n",
    "df['Age'] = df['Age'].fillna(df['Age'].median())\n",
    "\n",
    "# Fill missing Embarked with mode\n",
    "df['Embarked'] = df['Embarked'].fillna(df['Embarked'].mode()[0])\n",
    "# Same for Ticket, Name, PassengerId\n",
    "for col in ['Ticket', 'Name', 'PassengerId']:\n",
    "    if col in df.columns:\n",
    "        df = df.drop(col, axis=1)"
   ]
  },
  {
   "cell_type": "code",
   "execution_count": 5,
   "id": "5045c302-2b5c-4838-bf20-24e5824e4467",
   "metadata": {},
   "outputs": [
    {
     "name": "stdout",
     "output_type": "stream",
     "text": [
      "Survived    0\n",
      "Pclass      0\n",
      "Sex         0\n",
      "Age         0\n",
      "SibSp       0\n",
      "Parch       0\n",
      "Fare        0\n",
      "Embarked    0\n",
      "dtype: int64\n"
     ]
    }
   ],
   "source": [
    "# Drop 'Cabin' only if it exists\n",
    "if 'Cabin' in df.columns:\n",
    "    df = df.drop('Cabin', axis=1)\n",
    "print(df.isnull().sum())"
   ]
  },
  {
   "cell_type": "code",
   "execution_count": 6,
   "id": "5490ead1-312e-467b-9997-c39743190860",
   "metadata": {},
   "outputs": [
    {
     "data": {
      "text/html": [
       "<div>\n",
       "<style scoped>\n",
       "    .dataframe tbody tr th:only-of-type {\n",
       "        vertical-align: middle;\n",
       "    }\n",
       "\n",
       "    .dataframe tbody tr th {\n",
       "        vertical-align: top;\n",
       "    }\n",
       "\n",
       "    .dataframe thead th {\n",
       "        text-align: right;\n",
       "    }\n",
       "</style>\n",
       "<table border=\"1\" class=\"dataframe\">\n",
       "  <thead>\n",
       "    <tr style=\"text-align: right;\">\n",
       "      <th></th>\n",
       "      <th>Survived</th>\n",
       "      <th>Pclass</th>\n",
       "      <th>Sex</th>\n",
       "      <th>Age</th>\n",
       "      <th>SibSp</th>\n",
       "      <th>Parch</th>\n",
       "      <th>Fare</th>\n",
       "      <th>Embarked</th>\n",
       "    </tr>\n",
       "  </thead>\n",
       "  <tbody>\n",
       "    <tr>\n",
       "      <th>0</th>\n",
       "      <td>0</td>\n",
       "      <td>3</td>\n",
       "      <td>1</td>\n",
       "      <td>22.0</td>\n",
       "      <td>1</td>\n",
       "      <td>0</td>\n",
       "      <td>7.2500</td>\n",
       "      <td>2</td>\n",
       "    </tr>\n",
       "    <tr>\n",
       "      <th>1</th>\n",
       "      <td>1</td>\n",
       "      <td>1</td>\n",
       "      <td>0</td>\n",
       "      <td>38.0</td>\n",
       "      <td>1</td>\n",
       "      <td>0</td>\n",
       "      <td>71.2833</td>\n",
       "      <td>0</td>\n",
       "    </tr>\n",
       "    <tr>\n",
       "      <th>2</th>\n",
       "      <td>1</td>\n",
       "      <td>3</td>\n",
       "      <td>0</td>\n",
       "      <td>26.0</td>\n",
       "      <td>0</td>\n",
       "      <td>0</td>\n",
       "      <td>7.9250</td>\n",
       "      <td>2</td>\n",
       "    </tr>\n",
       "    <tr>\n",
       "      <th>3</th>\n",
       "      <td>1</td>\n",
       "      <td>1</td>\n",
       "      <td>0</td>\n",
       "      <td>35.0</td>\n",
       "      <td>1</td>\n",
       "      <td>0</td>\n",
       "      <td>53.1000</td>\n",
       "      <td>2</td>\n",
       "    </tr>\n",
       "    <tr>\n",
       "      <th>4</th>\n",
       "      <td>0</td>\n",
       "      <td>3</td>\n",
       "      <td>1</td>\n",
       "      <td>35.0</td>\n",
       "      <td>0</td>\n",
       "      <td>0</td>\n",
       "      <td>8.0500</td>\n",
       "      <td>2</td>\n",
       "    </tr>\n",
       "  </tbody>\n",
       "</table>\n",
       "</div>"
      ],
      "text/plain": [
       "   Survived  Pclass  Sex   Age  SibSp  Parch     Fare  Embarked\n",
       "0         0       3    1  22.0      1      0   7.2500         2\n",
       "1         1       1    0  38.0      1      0  71.2833         0\n",
       "2         1       3    0  26.0      0      0   7.9250         2\n",
       "3         1       1    0  35.0      1      0  53.1000         2\n",
       "4         0       3    1  35.0      0      0   8.0500         2"
      ]
     },
     "execution_count": 6,
     "metadata": {},
     "output_type": "execute_result"
    }
   ],
   "source": [
    "# Encode 'Sex' and 'Embarked' columns\n",
    "label_encoder = LabelEncoder()\n",
    "\n",
    "df['Sex'] = label_encoder.fit_transform(df['Sex'])\n",
    "df['Embarked'] = label_encoder.fit_transform(df['Embarked'])\n",
    "#Sex: 0 = Female, 1 = Male\n",
    "\n",
    "#Embarked: 0 = Cherbourg (C), 1 = Queenstown (Q), 2 = Southampton (S) )\n",
    "# Double check\n",
    "df.head()"
   ]
  },
  {
   "cell_type": "code",
   "execution_count": 7,
   "id": "c8974977-b13f-488c-818c-b2b100b77bb7",
   "metadata": {},
   "outputs": [
    {
     "name": "stdout",
     "output_type": "stream",
     "text": [
      "Accuracy: 0.8100558659217877\n",
      "\n",
      "Confusion Matrix:\n",
      " [[88 17]\n",
      " [17 57]]\n",
      "\n",
      "Classification Report:\n",
      "               precision    recall  f1-score   support\n",
      "\n",
      "           0       0.84      0.84      0.84       105\n",
      "           1       0.77      0.77      0.77        74\n",
      "\n",
      "    accuracy                           0.81       179\n",
      "   macro avg       0.80      0.80      0.80       179\n",
      "weighted avg       0.81      0.81      0.81       179\n",
      "\n"
     ]
    }
   ],
   "source": [
    "# 1. Import libraries\n",
    "from sklearn.model_selection import train_test_split\n",
    "from sklearn.ensemble import RandomForestClassifier\n",
    "from sklearn.metrics import accuracy_score, confusion_matrix, classification_report\n",
    "\n",
    "# 2. Separate input (X) and output (y)\n",
    "X = df.drop('Survived', axis=1)  # features\n",
    "y = df['Survived']               # target\n",
    "\n",
    "# 3. Split into training and testing data\n",
    "X_train, X_test, y_train, y_test = train_test_split(X, y, test_size=0.2, random_state=42)\n",
    "\n",
    "# 4. Create a Random Forest model (simple but powerful)\n",
    "model = RandomForestClassifier()\n",
    "\n",
    "# 5. Train the model\n",
    "model.fit(X_train, y_train)\n",
    "\n",
    "# 6. Predict on test data\n",
    "y_pred = model.predict(X_test)\n",
    "\n",
    "# 7. Evaluate the model\n",
    "print(\"Accuracy:\", accuracy_score(y_test, y_pred))\n",
    "print(\"\\nConfusion Matrix:\\n\", confusion_matrix(y_test, y_pred))\n",
    "print(\"\\nClassification Report:\\n\", classification_report(y_test, y_pred))"
   ]
  },
  {
   "cell_type": "code",
   "execution_count": 8,
   "id": "a347ee9b-1a12-4ab1-8170-d069f7f95b1d",
   "metadata": {},
   "outputs": [
    {
     "name": "stdout",
     "output_type": "stream",
     "text": [
      "Model saved successfully! 🎯\n",
      "Model loaded successfully! 🚀\n"
     ]
    }
   ],
   "source": [
    "import joblib\n",
    "\n",
    "# Save\n",
    "joblib.dump(model, 'titanic_model.pkl')\n",
    "print(\"Model saved successfully! 🎯\")\n",
    "\n",
    "# Load\n",
    "model = joblib.load('titanic_model.pkl')\n",
    "print(\"Model loaded successfully! 🚀\")"
   ]
  },
  {
   "cell_type": "code",
   "execution_count": 9,
   "id": "51879980-be8e-4c2c-bcaa-b2f3d1136414",
   "metadata": {},
   "outputs": [
    {
     "name": "stdout",
     "output_type": "stream",
     "text": [
      "Passenger 1: Survived 🛟\n",
      "Passenger 2: Did NOT survive 🚢💥\n",
      "Passenger 3: Survived 🛟\n",
      "Passenger 4: Did NOT survive 🚢💥\n",
      "Passenger 5: Survived 🛟\n"
     ]
    },
    {
     "name": "stderr",
     "output_type": "stream",
     "text": [
      "C:\\Users\\hp\\anaconda3\\Lib\\site-packages\\sklearn\\base.py:439: UserWarning: X does not have valid feature names, but RandomForestClassifier was fitted with feature names\n",
      "  warnings.warn(\n"
     ]
    }
   ],
   "source": [
    "import numpy as np\n",
    "\n",
    "# Inputs\n",
    "test_passengers = np.array([\n",
    "    [1, 0, 25, 0, 0, 80, 0],\n",
    "    [3, 1, 30, 0, 0, 7.25, 2],\n",
    "    [2, 0, 22, 1, 0, 15, 2],\n",
    "    [3, 1, 45, 0, 0, 8.05, 2],\n",
    "    [1, 0, 60, 1, 1, 120, 0]\n",
    "])\n",
    "\n",
    "# Predict\n",
    "predictions = model.predict(test_passengers)\n",
    "\n",
    "# Display\n",
    "for i, prediction in enumerate(predictions):\n",
    "    status = \"Survived 🛟\" if prediction == 1 else \"Did NOT survive 🚢💥\"\n",
    "    print(f\"Passenger {i+1}: {status}\")"
   ]
  },
  {
   "cell_type": "code",
   "execution_count": 10,
   "id": "21ca6ad0-587e-46fd-b1a4-ec8038a184d5",
   "metadata": {},
   "outputs": [
    {
     "name": "stdout",
     "output_type": "stream",
     "text": [
      "Model Raw Predictions: [0 0 0 0 0]\n",
      "Passenger 1: Did NOT survive 🚢💥\n",
      "Passenger 2: Did NOT survive 🚢💥\n",
      "Passenger 3: Did NOT survive 🚢💥\n",
      "Passenger 4: Did NOT survive 🚢💥\n",
      "Passenger 5: Did NOT survive 🚢💥\n"
     ]
    }
   ],
   "source": [
    "new_passengers = pd.DataFrame({\n",
    "    'Pclass': [3, 3, 3, 3, 3],  # 3rd class\n",
    "    'Sex': [1, 1, 1, 1, 1],     # Male\n",
    "    'Age': [40, 22, 35, 28, 50],# Adult males\n",
    "    'SibSp': [0, 0, 0, 0, 0],   # Traveling alone\n",
    "    'Parch': [0, 0, 0, 0, 0],   # No parents/children\n",
    "    'Fare': [7, 8, 6, 9, 5],    # Cheap tickets\n",
    "    'Embarked': [2, 2, 2, 2, 2] # Embarked from 'S'\n",
    "})\n",
    "\n",
    "# Predict using the loaded model\n",
    "predictions = model.predict(new_passengers)\n",
    "print(\"Model Raw Predictions:\", predictions)\n",
    "\n",
    "\n",
    "# Display predictions\n",
    "for idx, pred in enumerate(predictions, start=1):\n",
    "    if pred == 1:\n",
    "        print(f\"Passenger {idx}: Survived 🛟\")\n",
    "    else:\n",
    "        print(f\"Passenger {idx}: Did NOT survive 🚢💥\")"
   ]
  },
  {
   "cell_type": "code",
   "execution_count": 11,
   "id": "af45b004-959b-4867-8511-ab7b295f3fdb",
   "metadata": {},
   "outputs": [],
   "source": [
    "likely_survivors = pd.DataFrame({\n",
    "    'Pclass': [1, 1, 2],          # Higher classes\n",
    "    'Sex': [0, 0, 0],             # Female\n",
    "    'Age': [25, 30, 8],           # Women and a child\n",
    "    'SibSp': [0, 1, 1],           \n",
    "    'Parch': [0, 0, 1],\n",
    "    'Fare': [100, 80, 30],\n",
    "    'Embarked': [0, 1, 2]\n",
    "})"
   ]
  },
  {
   "cell_type": "code",
   "execution_count": 12,
   "id": "ba9548b3-74d2-4855-ba84-68fae793ac60",
   "metadata": {},
   "outputs": [
    {
     "name": "stdout",
     "output_type": "stream",
     "text": [
      "Passenger 1: Survived 🛟\n",
      "Passenger 2: Survived 🛟\n",
      "Passenger 3: Did NOT survive 🚢💥\n",
      "Passenger 4: Did NOT survive 🚢💥\n",
      "Passenger 5: Did NOT survive 🚢💥\n"
     ]
    }
   ],
   "source": [
    "import pandas as pd\n",
    "import joblib\n",
    "\n",
    "# Load model\n",
    "model = joblib.load('titanic_model.pkl')\n",
    "\n",
    "# Create new passengers (same as before)\n",
    "new_passengers = pd.DataFrame({\n",
    "    'Pclass': [1, 1, 3, 3, 3],\n",
    "    'Sex': [0, 0, 1, 1, 0],\n",
    "    'Age': [25, 30, 40, 35, 50],\n",
    "    'SibSp': [0, 1, 0, 0, 0],\n",
    "    'Parch': [0, 0, 0, 0, 0],\n",
    "    'Fare': [100, 80, 7, 6, 8],\n",
    "    'Embarked': [0, 0, 2, 2, 2]\n",
    "})\n",
    "\n",
    "# Predict\n",
    "predictions = model.predict(new_passengers)\n",
    "\n",
    "# Show results\n",
    "for i, pred in enumerate(predictions):\n",
    "    if pred == 1:\n",
    "        print(f\"Passenger {i+1}: Survived 🛟\")\n",
    "    else:\n",
    "        print(f\"Passenger {i+1}: Did NOT survive 🚢💥\")"
   ]
  },
  {
   "cell_type": "code",
   "execution_count": 13,
   "id": "9628beca-c915-48cc-a5cb-51853c6bdd82",
   "metadata": {},
   "outputs": [],
   "source": [
    "import pandas as pd\n",
    "\n",
    "group_a = pd.DataFrame({\n",
    "    'Pclass': [1, 1, 1],\n",
    "    'Sex': [1, 1, 1],               # Male\n",
    "    'Age': [55, 62, 45],\n",
    "    'SibSp': [0, 1, 1],\n",
    "    'Parch': [0, 0, 1],\n",
    "    'Fare': [100, 120, 150],\n",
    "    'Embarked': [0, 1, 1]\n",
    "})"
   ]
  },
  {
   "cell_type": "code",
   "execution_count": 14,
   "id": "ff612542-acea-4b2d-aa38-b76bb70bb0a0",
   "metadata": {},
   "outputs": [
    {
     "name": "stdout",
     "output_type": "stream",
     "text": [
      "Predictions for group_a:\n",
      "[0 0 0]\n"
     ]
    }
   ],
   "source": [
    "predictions = model.predict(group_a)\n",
    "print(\"Predictions for group_a:\")\n",
    "print(predictions)"
   ]
  },
  {
   "cell_type": "code",
   "execution_count": 15,
   "id": "6fae2786-3e1c-4d4e-b3c4-24ffa7f03a31",
   "metadata": {},
   "outputs": [
    {
     "name": "stdout",
     "output_type": "stream",
     "text": [
      "Passenger 1: Survive=0.28, Not Survive=0.72\n",
      "Passenger 2: Survive=0.35, Not Survive=0.65\n",
      "Passenger 3: Survive=0.32, Not Survive=0.68\n"
     ]
    }
   ],
   "source": [
    "probs = model.predict_proba(group_a)\n",
    "\n",
    "for i, prob in enumerate(probs):\n",
    "    print(f\"Passenger {i+1}: Survive={prob[1]:.2f}, Not Survive={prob[0]:.2f}\")"
   ]
  },
  {
   "cell_type": "code",
   "execution_count": null,
   "id": "14291a61-a85f-43d1-9a63-2e48e35f3acd",
   "metadata": {},
   "outputs": [],
   "source": []
  }
 ],
 "metadata": {
  "kernelspec": {
   "display_name": "Python 3 (ipykernel)",
   "language": "python",
   "name": "python3"
  },
  "language_info": {
   "codemirror_mode": {
    "name": "ipython",
    "version": 3
   },
   "file_extension": ".py",
   "mimetype": "text/x-python",
   "name": "python",
   "nbconvert_exporter": "python",
   "pygments_lexer": "ipython3",
   "version": "3.11.7"
  }
 },
 "nbformat": 4,
 "nbformat_minor": 5
}
